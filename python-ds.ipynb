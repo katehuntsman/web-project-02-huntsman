{
 "cells": [
  {
   "cell_type": "markdown",
   "metadata": {},
   "source": [
    "# Web Mining and Applied NLP (44-620)\n",
    "\n",
    "## Python Notebooks, Basics, and Data Structures\n",
    "\n",
    "### Student Name: Kate Huntsman\n",
    "\n",
    "### Link to GitHub repo: https://github.com/katehuntsman/web-project-02-huntsman"
   ]
  },
  {
   "cell_type": "markdown",
   "metadata": {},
   "source": [
    "1. Write code that divides any two numbers, stores the result in a variable, and prints the result with an appropriate label."
   ]
  },
  {
   "cell_type": "code",
   "execution_count": 36,
   "metadata": {},
   "outputs": [
    {
     "name": "stdout",
     "output_type": "stream",
     "text": [
      "The result of dividing 10 by 7 is: 1.4285714285714286\n"
     ]
    }
   ],
   "source": [
    "# Function to divide two numbers\n",
    "def divide_numbers(num1, num2):\n",
    "    if num2 == 0:\n",
    "        return \"Error: Division by zero is not allowed.\"\n",
    "    return num1 / num2\n",
    "\n",
    "# Predefined numbers\n",
    "number1 = 10  # You can change this to any number you want\n",
    "number2 = 7   # You can change this to any number you want\n",
    "\n",
    "# Perform division\n",
    "division_result = divide_numbers(number1, number2)\n",
    "\n",
    "# Print the result with an appropriate label\n",
    "print(f\"The result of dividing {number1} by {number2} is: {division_result}\")"
   ]
  },
  {
   "cell_type": "markdown",
   "metadata": {},
   "source": [
    "2. Using loops (and potentially conditionals), write Python code that prints the factorial of each integer from 1 through 10 (which you can store in a variable if you want). The factorial of an integer is the product of all of the integers of 1 through the number. Print the result with an appropriate label."
   ]
  },
  {
   "cell_type": "code",
   "execution_count": 37,
   "metadata": {},
   "outputs": [
    {
     "name": "stdout",
     "output_type": "stream",
     "text": [
      "The factorial of 1 is: 1\n",
      "The factorial of 2 is: 2\n",
      "The factorial of 3 is: 6\n",
      "The factorial of 4 is: 24\n",
      "The factorial of 5 is: 120\n",
      "The factorial of 6 is: 720\n",
      "The factorial of 7 is: 5040\n",
      "The factorial of 8 is: 40320\n",
      "The factorial of 9 is: 362880\n",
      "The factorial of 10 is: 3628800\n"
     ]
    }
   ],
   "source": [
    "# Function to calculate factorial\n",
    "def calculate_factorial(n):\n",
    "    factorial = 1\n",
    "    for i in range(1, n + 1):\n",
    "        factorial *= i\n",
    "    return factorial\n",
    "\n",
    "# Loop through integers from 1 to 10\n",
    "for number in range(1, 11):\n",
    "    factorial_result = calculate_factorial(number)\n",
    "    print(f\"The factorial of {number} is: {factorial_result}\")"
   ]
  },
  {
   "cell_type": "markdown",
   "metadata": {},
   "source": [
    "3. Write a python function that takes a single parameter and calculates and returns the average (mean) of the values in the parameter (which you may assume is iterable).  Show that your function works by printing the result of calling the function on the list in the cell below."
   ]
  },
  {
   "cell_type": "code",
   "execution_count": 38,
   "metadata": {},
   "outputs": [
    {
     "name": "stdout",
     "output_type": "stream",
     "text": [
      "The average of the list [10, 20, 30, 40, 50] is: 30.0\n"
     ]
    }
   ],
   "source": [
    "def calculate_average(values):\n",
    "    # Ensure the input is not empty to avoid division by zero\n",
    "    if not values:\n",
    "        return 0  # Return 0 for an empty iterable\n",
    "    total_sum = sum(values)\n",
    "    count = len(values)\n",
    "    average = total_sum / count\n",
    "    return average\n",
    "\n",
    "# Example list to demonstrate the function\n",
    "example_list = [10, 20, 30, 40, 50]\n",
    "\n",
    "# Calculate and print the average\n",
    "average_result = calculate_average(example_list)\n",
    "print(f\"The average of the list {example_list} is: {average_result}\")"
   ]
  },
  {
   "cell_type": "markdown",
   "metadata": {},
   "source": [
    "4. Using your mean function above, write a function that calculates the variance of the list of numbers (see https://en.wikipedia.org/wiki/Variance for more information on the formula). In short:\n",
    "* subtract the mean of the elements in the list from every element in the list; store these values in a new list\n",
    "* square every element in the new list and sum the elements together\n",
    "* divide the resulting number by N (where N is the length of the original list)\n",
    "\n",
    "Show the result of calling your function in the lists in the code cell. You must use one or more list comprehensions or map/filter in your code.\n"
   ]
  },
  {
   "cell_type": "code",
   "execution_count": 39,
   "metadata": {},
   "outputs": [
    {
     "name": "stdout",
     "output_type": "stream",
     "text": [
      "The variance of list1 is: 1.13973309\n",
      "The variance of list2 is: 0.9257232841\n",
      "The variances are off by: 0.21400980589999996\n"
     ]
    }
   ],
   "source": [
    "def calculate_average(values):\n",
    "    if not values:\n",
    "        return 0  # Return 0 for an empty iterable\n",
    "    total_sum = sum(values)\n",
    "    count = len(values)\n",
    "    average = total_sum / count\n",
    "    return average\n",
    "\n",
    "def calculate_variance(values):\n",
    "    mean_value = calculate_average(values)\n",
    "    squared_differences = [(x - mean_value) ** 2 for x in values]\n",
    "    variance = sum(squared_differences) / len(values) if values else 0\n",
    "    return variance\n",
    "\n",
    "# Given lists\n",
    "list1 = [5.670e-1, -1.480e+0, -5.570e-1, -1.470e+0, 7.340e-1, 1.050e+0, 4.480e-1, 2.570e-1, -1.970e+0, -1.460e+0]\n",
    "list2 = [-1.780e+0, 2.640e-1, 1.160e+0, 9.080e-1, 1.780e+0, 1.080e+0, 1.050e+0, -4.630e-2, 1.520e+0, 5.350e-1]\n",
    "\n",
    "# Calculate and print the variance for each list\n",
    "variance_result1 = calculate_variance(list1)\n",
    "variance_result2 = calculate_variance(list2)\n",
    "\n",
    "print(f\"The variance of list1 is: {variance_result1}\")\n",
    "print(f\"The variance of list2 is: {variance_result2}\")\n",
    "\n",
    "# Check if the variances are close to 1\n",
    "variance_difference = abs(variance_result1 - variance_result2)\n",
    "print(f\"The variances are off by: {variance_difference}\")"
   ]
  },
  {
   "cell_type": "markdown",
   "metadata": {},
   "source": [
    "5. Create a list with at least 15 elements in it. Use list slicing to print the following:\n",
    "* The first 5 elements of the list\n",
    "* The last 5 elements of the list\n",
    "* The list reversed (hint, show the entire list with a stride of -1)\n",
    "* Every second element in the list\n",
    "* Every third element in the list (stride of 3)"
   ]
  },
  {
   "cell_type": "code",
   "execution_count": 40,
   "metadata": {},
   "outputs": [
    {
     "name": "stdout",
     "output_type": "stream",
     "text": [
      "The first 5 elements: [10, 20, 30, 40, 50]\n",
      "The last 5 elements: [110, 120, 130, 140, 150]\n",
      "The list reversed: [150, 140, 130, 120, 110, 100, 90, 80, 70, 60, 50, 40, 30, 20, 10]\n",
      "Every second element: [10, 30, 50, 70, 90, 110, 130, 150]\n",
      "Every third element: [10, 40, 70, 100, 130]\n"
     ]
    }
   ],
   "source": [
    "# Creating a list with 15 elements\n",
    "my_list = [10, 20, 30, 40, 50, 60, 70, 80, 90, 100, 110, 120, 130, 140, 150]\n",
    "\n",
    "# Print the first 5 elements\n",
    "first_five = my_list[:5]\n",
    "print(f\"The first 5 elements: {first_five}\")\n",
    "\n",
    "# Print the last 5 elements\n",
    "last_five = my_list[-5:]\n",
    "print(f\"The last 5 elements: {last_five}\")\n",
    "\n",
    "# Print the list reversed\n",
    "reversed_list = my_list[::-1]\n",
    "print(f\"The list reversed: {reversed_list}\")\n",
    "\n",
    "# Print every second element\n",
    "every_second = my_list[::2]\n",
    "print(f\"Every second element: {every_second}\")\n",
    "\n",
    "# Print every third element\n",
    "every_third = my_list[::3]\n",
    "print(f\"Every third element: {every_third}\")"
   ]
  },
  {
   "cell_type": "markdown",
   "metadata": {},
   "source": [
    "6. Build a dictionary that contains the following information about this class (with appropriate names as keys):\n",
    "* The name\n",
    "* The course number\n",
    "* The semester/term in which you are taking this course\n",
    "* The number of credit hours this course counts for\n",
    "* A list of the course learning objectives\n",
    "\n",
    "Print the dictionary."
   ]
  },
  {
   "cell_type": "code",
   "execution_count": 41,
   "metadata": {},
   "outputs": [
    {
     "name": "stdout",
     "output_type": "stream",
     "text": [
      "{'name': 'Introduction to Programming', 'course_number': 'CS101', 'semester': 'Fall 2024', 'credit_hours': 3, 'learning_objectives': ['Understand the basics of programming concepts.', 'Develop problem-solving skills using algorithms.', 'Write and debug simple programs in Python.', 'Work with data structures such as lists and dictionaries.', 'Collaborate on group projects and presentations.']}\n"
     ]
    }
   ],
   "source": [
    "# Creating a dictionary to store class information\n",
    "class_info = {\n",
    "    \"name\": \"Introduction to Programming\",\n",
    "    \"course_number\": \"CS101\",\n",
    "    \"semester\": \"Fall 2024\",\n",
    "    \"credit_hours\": 3,\n",
    "    \"learning_objectives\": [\n",
    "        \"Understand the basics of programming concepts.\",\n",
    "        \"Develop problem-solving skills using algorithms.\",\n",
    "        \"Write and debug simple programs in Python.\",\n",
    "        \"Work with data structures such as lists and dictionaries.\",\n",
    "        \"Collaborate on group projects and presentations.\"\n",
    "    ]\n",
    "}\n",
    "\n",
    "# Print the dictionary\n",
    "print(class_info)"
   ]
  },
  {
   "cell_type": "markdown",
   "metadata": {},
   "source": [
    "7.  Given the dictionary defined in the code cell below, print the list of level 3 spells the character has."
   ]
  },
  {
   "cell_type": "code",
   "execution_count": 42,
   "metadata": {},
   "outputs": [
    {
     "name": "stdout",
     "output_type": "stream",
     "text": [
      "Level 3 spells: ['Mass Healing Word', 'Nondetection', 'Revivify', 'Feign Death', 'Speak with Dead']\n"
     ]
    }
   ],
   "source": [
    "# Given player_character dictionary\n",
    "player_character = {\n",
    "    'name': 'Kitab',\n",
    "    'class': [('Cleric: Knowledge', 7)],\n",
    "    'spells': {\n",
    "        'cantrip': ['Guidance', 'Light', 'Thaumaturgy', 'Toll the Dead', 'Word of Radiance'],\n",
    "        'level 1': ['Command', 'Detect Magic', 'Healing Word', 'Identify', 'Sleep'],\n",
    "        'level 2': ['Augury', 'Calm Emotions', 'Command', 'Invisibility', 'Lesser Restoration'],\n",
    "        'level 3': ['Mass Healing Word', 'Nondetection', 'Revivify', 'Feign Death', 'Speak with Dead'],\n",
    "        'level 4': ['Banishment', 'Confusion']\n",
    "    }\n",
    "}\n",
    "\n",
    "# Print the list of level 3 spells\n",
    "level_3_spells = player_character['spells']['level 3']\n",
    "print(f\"Level 3 spells: {level_3_spells}\")"
   ]
  },
  {
   "cell_type": "markdown",
   "metadata": {},
   "source": [
    "8. Write code to determine the number of unique elements in the list below.  You MUST use a set in finding your solution.  Print the number of unique values in the list with an appropriate label."
   ]
  },
  {
   "cell_type": "code",
   "execution_count": 43,
   "metadata": {},
   "outputs": [
    {
     "name": "stdout",
     "output_type": "stream",
     "text": [
      "Number of unique values: 12\n"
     ]
    }
   ],
   "source": [
    "# Given list of values\n",
    "values = [10, 11, 10, 8, 1, 12, 0, 1, 6, 5, 5, 13, 6, 15, 0, 0, 1, 1, 9, 7]\n",
    "\n",
    "# Using a set to find unique elements\n",
    "unique_elements = set(values)\n",
    "\n",
    "# Counting the number of unique elements\n",
    "num_unique = len(unique_elements)\n",
    "\n",
    "# Printing the result\n",
    "print(f'Number of unique values: {num_unique}')"
   ]
  },
  {
   "cell_type": "markdown",
   "metadata": {},
   "source": [
    "9. Add a Code cell and write Python that uses loops to draw the following pattern:\n",
    "\n",
    "```\n",
    "*      *\n",
    "**    **\n",
    "***  ***\n",
    "********\n",
    "```"
   ]
  },
  {
   "cell_type": "code",
   "execution_count": 44,
   "metadata": {},
   "outputs": [
    {
     "name": "stdout",
     "output_type": "stream",
     "text": [
      "*      *\n",
      "**    **\n",
      "***  ***\n",
      "********\n"
     ]
    }
   ],
   "source": [
    "# Number of rows for the pattern\n",
    "n = 4\n",
    "\n",
    "# Loop to print each row\n",
    "for i in range(1, n + 1):\n",
    "    # Print stars\n",
    "    print('*' * i, end='')\n",
    "    # Print spaces\n",
    "    print(' ' * (2 * (n - i)), end='')\n",
    "    # Print stars again\n",
    "    print('*' * i)"
   ]
  }
 ],
 "metadata": {
  "kernelspec": {
   "display_name": "Python 3",
   "language": "python",
   "name": "python3"
  },
  "language_info": {
   "codemirror_mode": {
    "name": "ipython",
    "version": 3
   },
   "file_extension": ".py",
   "mimetype": "text/x-python",
   "name": "python",
   "nbconvert_exporter": "python",
   "pygments_lexer": "ipython3",
   "version": "3.12.5"
  }
 },
 "nbformat": 4,
 "nbformat_minor": 4
}
